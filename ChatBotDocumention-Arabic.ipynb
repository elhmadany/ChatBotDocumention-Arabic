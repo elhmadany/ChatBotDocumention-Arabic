{
 "cells": [
  {
   "cell_type": "markdown",
   "metadata": {},
   "source": [
    "# Introduction"
   ]
  },
  {
   "cell_type": "markdown",
   "metadata": {},
   "source": [
    "\n",
    "The basic foundation of chatbots is providing the best response of any query that it receives. The best response like answering the sender questions, providing sender relevant information, ask follow-up questions and do the conversation in realistic way.\n",
    "Some models may use additional meta information from data, such as speaker id, gender, emotion. Sometimes, sentiment analysis is used to allows the chatbot to ‘understand’ the mood of the user by analysing verbal and sentence structuring clues."
   ]
  },
  {
   "cell_type": "markdown",
   "metadata": {},
   "source": [
    "## The following instructions we can consider to build a chatbot from scratch and at the end I will mention an example:"
   ]
  },
  {
   "cell_type": "markdown",
   "metadata": {},
   "source": [
    "# 1.Determine the Role of the Bot and Set Goals:\n",
    "\n",
    "-Identify the top 5 to 10 items that customers want to know about. Limiting the topics allows for finer tuning of\n",
    "the bot to understand the subject better which in turn allows answers with higher confidence.\n",
    "\n",
    "-Match the chatbot to your existing voice self-service platform capabilities. Recreating well-defined and understood topics creates consistency across all modalities for your customers. \n"
   ]
  },
  {
   "cell_type": "markdown",
   "metadata": {},
   "source": [
    "# 2. Evaluate and Pick Access Channel :\n",
    "\n",
    "Text-based chatbots can live on any communication channel that can carry a dialog, whether that’s a traditional mobile carrier channel (SMS, USSD), a messaging app (Facebook Messenger, WeChat, Kik, Line, Viber), certain\n",
    "social networks like Twitter, or chat embedded on a website.Whatever channel you prefer, make sure it offers an open API . \n"
   ]
  },
  {
   "cell_type": "markdown",
   "metadata": {},
   "source": [
    "# 3.Create the Conversational Architecture:\n",
    "Chatbots, especially those answering frequently asked customer questions, are a different type of User Interface than a traditional Graphical UI (GUI) such as a website or a mobile app. GUIs restrict the possible user interaction \n",
    "\n",
    "A conversational interface (CUI) is a user interface for computers that emulates a conversation with a real human,To do this, conversational interfaces use natural language processing (NLP) to allow computers to understand, analyze, and create meaning from human language."
   ]
  },
  {
   "cell_type": "markdown",
   "metadata": {},
   "source": [
    "# 4.Design Dialog deal with strange input:\n",
    "In the dialog flow design, you will want to show representations of what the bot will say at each step. However,\n",
    "the detailed message design should happen outside of the flow diagrams, as you will want to design variations\n",
    "of the same message for frequently occurring dialog steps. This is a technique called random prompting,\n",
    "where you make the bot use wording variations to essentially say the same thing"
   ]
  },
  {
   "cell_type": "markdown",
   "metadata": {},
   "source": [
    "# 5.Data Collection Strategies :\n",
    "one of the most important resources you will need is a\n",
    "collection of sentences reflecting different ways to express each one of the intents and slot values your bot will\n",
    "need to recognize. This resource can be difficult to create because of the amazing diversity of human language and the limitations of the developer’s imagination\n",
    "\n",
    "AI chatbots are trained using inputs, they are then configured to provide outputs (answers or responses). So, the training data must be comprised of examples (a.k.a. utterances) of users asking questions or making requests. These utterances are used to train a machine learning model. Once the model is trained, it should be able to classify the intent of a request, even if the wording isn’t exactly like the examples it has already seen. This is the true power of AI.\n"
   ]
  },
  {
   "cell_type": "markdown",
   "metadata": {},
   "source": [
    "# 6.Pick a Platform and a Development Approach:\n",
    "If you have been offering web chat for quite some time, you might already have collected tens of thousands of\n",
    "customer inquiries with corresponding answers. \n",
    "While a true dialog consists of more than one turn, and many\n",
    "customer service dialogs are not simple pairs of question & answer, you should be able to apply machine\n",
    "learning algorithms to this data set to learn the most common answers to the most common questions. Note that\n",
    "with this approach, you will have to start from scratch for every new language you want the bot to speak. Also, it\n",
    "is still a tremendous and largely manual effort to tag the data and analyze the outcome to ensure quality\n",
    "\n"
   ]
  },
  {
   "cell_type": "markdown",
   "metadata": {},
   "source": [
    "# 7. Deployment and Revisions  :\n",
    "Even though you’re ready to go live, the work is not done when the bot gets deployed. Even if your bot employs\n",
    "some kind of unsupervised or semi-supervised learning to adjust its own behavior over time, monitoring the first\n",
    "interactions with real users will yield very useful information and may signal that explicit adjustments should be\n",
    "made. Typical adjustments are in the wording of your bot’s responses, as they might yield follow-up clarification\n",
    "questions by your customers that wouldn’t be necessary if the bot’s answer were clearer. You may need to\n",
    "adjust the logic of your intent classification, either through explicit manipulation of the rules or through providing\n",
    "more example sentences. Finally, you may need to add new use cases if the designed use cases do not cover\n",
    "the majority of user requests. If you truly started small as recommended, then this is the time when you are\n",
    "collecting the vital information about which use cases are the key ones to cover.\n",
    "\n",
    "finally there are end to end solution for chatbot licence since they require no coding from your end. Some of these chatbot maker tools include,Chatfuel,Flow XO,Octaine.ai,Botsify,QnA Maker,Bottr. In addition creating your own bot and you know how to code, you can use dedicated chatbot development frameworks. For example:\n",
    "\n",
    "- **Facebook Wit.AI .**\n",
    "- **IBM Watson.**\n",
    "- **Microsoft Bot Framework.**\n",
    "- **Google Dialogflow (former Api.ai).**\n",
    "\n"
   ]
  },
  {
   "cell_type": "markdown",
   "metadata": {},
   "source": [
    "# Here I provide example to show how  can build Arabic Chatbot :"
   ]
  },
  {
   "cell_type": "code",
   "execution_count": 8,
   "metadata": {},
   "outputs": [],
   "source": [
    "#Import libraries\n",
    "from newspaper import Article\n",
    "import random\n",
    "import string\n",
    "from sklearn.feature_extraction.text import TfidfVectorizer\n",
    "from sklearn.metrics.pairwise import cosine_similarity\n",
    "import nltk\n",
    "import numpy as np\n",
    "from nltk.corpus import stopwords"
   ]
  },
  {
   "cell_type": "code",
   "execution_count": 9,
   "metadata": {},
   "outputs": [
    {
     "data": {
      "text/plain": [
       "True"
      ]
     },
     "execution_count": 9,
     "metadata": {},
     "output_type": "execute_result"
    }
   ],
   "source": [
    "#Download the packages from NLTK\n",
    "nltk.download('punkt', quiet=True)\n",
    "nltk.download('wordnet', quiet=True)"
   ]
  },
  {
   "cell_type": "code",
   "execution_count": 10,
   "metadata": {},
   "outputs": [
    {
     "name": "stdout",
     "output_type": "stream",
     "text": [
      "المملكة العربية السعودية هي أكبر دولة في الشرق الأوسط من حيث المساحة وتتنوع فيها البيئات ، والتضاريس والعادات ، والتقاليد ، وتتنوع الأطعمة ، ومما ساعد أيضا على التنوع وتغيير الثقافات بالمملكة ، وجود زيارات من قدموا لأداء مناسك الحج والعمرة من كل ثقافات العالم المختلفة التي نقلت معهم كذلك ثقافة الطعام والغذاء المتنوع إلى المملكة.\n",
      "\n",
      "أشهر الأكلات الشعبية السعودية\n",
      "\n",
      "تنقسم أكلات المملكة وتتغير على حسب المنطقة وعادتها وثقافتها ، وطريقة إعدادها للأكلات والمواد المستخدمة في الطهي والبهارات الجميلة التي تميز طعام المملكة.\n",
      "\n",
      "أشهر أكلات المناطق الشمالية والوسطى\n",
      "\n",
      "تشمل المناطق الشمالية مدينة عرعر, ورفحاء ، والطريف ، ومدينة العويقلية ، والمنطقة الوسطى تشتمل على أكبر مدينتين هما مدينة الرياض ، ومدينة القصيم ، ومدن أخري مثل الخرج ، والغاط ، ووادي الدواسر وغيرهم من المناطق ، وسنذكر هنا أشهرالأكلات.\n",
      "\n",
      "المفطح\n",
      "\n",
      "من الأكلات الخليجية المحببة ، وهو عبارة عن خروف مطبوخ كامل غير مقطع إلى أجزاء ، ويفضل سكان المملكة تقديمه في الولائم للضيوف ، وفي ولائم الأفراح.\n",
      "\n",
      "الكبسة\n",
      "\n",
      "هي من أشهر الأطباق والأكلات التي تقدم بالمملكة ، ويحبها الكبير والصغير ، وقد اشتهرت هذه الأكلة ، بين الجنسيات المختلفة ، وتتكون من الأرز ولحم الدجاج أو لحم البقر أو الغنم.\n",
      "\n",
      "المنسف\n",
      "\n",
      "هو من الأكلات المشهورة التي تعكس روح البادية بالمملكة ، والمعروف عنهم كرم الضيافة ، و تتكون الأكلة من لحم الخروف المقطع مع الأرز ، وممكن مع الخبز وتقدم مع لبن الجميد ، وهي من الأكلات الدسمة.\n",
      "\n",
      "المطازيز\n",
      "\n",
      "من الأكلات الشعبية المشهورة ، وتعرف في مناطق أخري بالقبابيط ، وهي عبارة عن عجينة مخبوزة ، ويطبخ فيها اللحم والخضروات ، إلى أن تنضج ، ويفضل أن تقدم في فصل الشتاء لتعطي طاقة وحرارة للجسم.\n",
      "\n",
      "الجريش\n",
      "\n",
      "عبارة عن القمح المجروش الذي يحتوي على كثير من المكونات الغذائية المفيدة للجسم ، ويستخدم كثيرا في المملكة ، ويطبخ القمح مع اللحم أو الدجاج ، باللبن أو الماء ، ويرش على وجه الأكلة البصل المقلي.\n",
      "\n",
      "أشهر أكلات في المنطقة الشرقية\n",
      "\n",
      "نذكر أولا بعض المدن الموجودة بالمنطقة الشرقية وهي كثيرة ومتعددة ، منها مدينة الإحساء ، والجبيل2 ، ومدينة الظهران ، والهفوف ، ومحافظة الجبيل ، وحفر الباطن ، ومحافظة الخبر ، والدمام ، والقيصومة ،وغيرها الكثير من المدن. تشترك المنطقة الشرقية مع كثير من الدول الخليجية بعدد من الأطباق ، وذلك لقربها منهم لأنهم يطلون على الخليج العربي ، ولذلك نجد إن المطبخ هناك يعتمد على الأطعمة البحرية ، والأسماك والربيان.\n",
      "\n",
      "الأرز الحساوي\n",
      "\n",
      "والأرز الحساوي مزروع في مدينة الأحساء لذلك سمي بهذا الاسم ، ولونه بني ، وأهم ما يميزه التوابل والبهارات ، والمكسرات ، التي تجعله من أطعم الأكلات.\n",
      "\n",
      "المكبوس\n",
      "\n",
      "وهو من أطيب الأكلات ، وأشهرها ، في المملكة ، وفي الدول الخليجية ، ويمكن تحضيره من السمك أو الدجاج ، وأحيانا مع اللحم ، ويطبخ مع الأرز وبعض المكونات التي تجعله من أطيب الأكالات.\n",
      "\n",
      "الربيان\n",
      "\n",
      "من الأكالات المميزة ذات الفوائد الكثيرة والطعم الشهي الجميل ، وتحضر منه كبسة الربيان ، ويطبخ مع صلصة الطماطم ثم يوضع مع الأرز وبذلك تصبح وجبة رئيسية شهية.\n",
      "\n",
      "وهو نوع من أنواع الأسماك يشبه سمك التونة ، وله من الفوائد الكثير ، وينصح دائما بتناوله لأنه يحتوي على المكمل الغذائي الأوميجا3 ، الذي يعمل على تقوية الذاكرة ، ويطهى بطريقة سهلة وبسيطة ، فيقطع سمك الكنعد إلى شرائح ثم يقلى بالزيت ويقدم مع السلطة.\n",
      "\n",
      "أشهر أكلات في منطقة الحجاز\n",
      "\n",
      "وهي المنطقة الغربية من المملكة العربية السعودية ، وتشتمل على جدة ، ومكة المكرمة ، والمدينة المنورة ، والطائف ، وينبع ، ولهذه المنطقة أكلات ذات خصوصية ، فهي منطقة رسول الله (صل الله عليه وسلم)\n",
      "\n",
      "أو يطلق عليها المشربية وهي أفضل أكلة للرسول” صلى الله عليه و سلم” وهي عبارة عن قطع صغيرة من اللحم ، معها بعض الخضروات ويوضع معهم الخبز ويصب عليهم مرقة اللحم.\n",
      "\n",
      "القوزي\n",
      "\n",
      "وهو عبارة عن طبق من الأرز أو المعكرونة ومعهم البرغل ، ويشوى القوزي أو الخروف ويوضع فوقهم وهو طبق مميز رئيسي يحضر في جميع المناسبات والحفلات الكبيرة.\n",
      "\n",
      "أشهر أكلات في منطقة الجنوب من المملكة\n",
      "\n",
      "وهي تشتمل على منطقة عسير ، وجازان ، ونجران ، والباحة ومن أشهر أكلاتها.\n",
      "\n",
      "العصيدة\n",
      "\n",
      "تعتبر العصيدة من الأكلات والحلويات الشعبية المشهورة ، وتتكون من دقيق القمح يعجن بالماء والقليل من الملح ثم تقدم مع اللبن والسمن ، وفي بعض الأحيان ، تقدم مع المرقة باختلاف مناطق صانعيها.\n"
     ]
    }
   ],
   "source": [
    "#Get the article URL\n",
    "article = Article('https://www.almrsal.com/post/817066')\n",
    "article.download()\n",
    "article.parse()\n",
    "article.nlp()\n",
    "corpus = article.text\n",
    "#Print the corpus/text\n",
    "print(corpus)"
   ]
  },
  {
   "cell_type": "code",
   "execution_count": 11,
   "metadata": {},
   "outputs": [
    {
     "name": "stdout",
     "output_type": "stream",
     "text": [
      "['المملكة العربية السعودية هي أكبر دولة في الشرق الأوسط من حيث المساحة وتتنوع فيها البيئات ، والتضاريس والعادات ، والتقاليد ، وتتنوع الأطعمة ، ومما ساعد أيضا على التنوع وتغيير الثقافات بالمملكة ، وجود زيارات من قدموا لأداء مناسك الحج والعمرة من كل ثقافات العالم المختلفة التي نقلت معهم كذلك ثقافة الطعام والغذاء المتنوع إلى المملكة.', 'أشهر الأكلات الشعبية السعودية\\n\\nتنقسم أكلات المملكة وتتغير على حسب المنطقة وعادتها وثقافتها ، وطريقة إعدادها للأكلات والمواد المستخدمة في الطهي والبهارات الجميلة التي تميز طعام المملكة.', 'أشهر أكلات المناطق الشمالية والوسطى\\n\\nتشمل المناطق الشمالية مدينة عرعر, ورفحاء ، والطريف ، ومدينة العويقلية ، والمنطقة الوسطى تشتمل على أكبر مدينتين هما مدينة الرياض ، ومدينة القصيم ، ومدن أخري مثل الخرج ، والغاط ، ووادي الدواسر وغيرهم من المناطق ، وسنذكر هنا أشهرالأكلات.', 'المفطح\\n\\nمن الأكلات الخليجية المحببة ، وهو عبارة عن خروف مطبوخ كامل غير مقطع إلى أجزاء ، ويفضل سكان المملكة تقديمه في الولائم للضيوف ، وفي ولائم الأفراح.', 'الكبسة\\n\\nهي من أشهر الأطباق والأكلات التي تقدم بالمملكة ، ويحبها الكبير والصغير ، وقد اشتهرت هذه الأكلة ، بين الجنسيات المختلفة ، وتتكون من الأرز ولحم الدجاج أو لحم البقر أو الغنم.', 'المنسف\\n\\nهو من الأكلات المشهورة التي تعكس روح البادية بالمملكة ، والمعروف عنهم كرم الضيافة ، و تتكون الأكلة من لحم الخروف المقطع مع الأرز ، وممكن مع الخبز وتقدم مع لبن الجميد ، وهي من الأكلات الدسمة.', 'المطازيز\\n\\nمن الأكلات الشعبية المشهورة ، وتعرف في مناطق أخري بالقبابيط ، وهي عبارة عن عجينة مخبوزة ، ويطبخ فيها اللحم والخضروات ، إلى أن تنضج ، ويفضل أن تقدم في فصل الشتاء لتعطي طاقة وحرارة للجسم.', 'الجريش\\n\\nعبارة عن القمح المجروش الذي يحتوي على كثير من المكونات الغذائية المفيدة للجسم ، ويستخدم كثيرا في المملكة ، ويطبخ القمح مع اللحم أو الدجاج ، باللبن أو الماء ، ويرش على وجه الأكلة البصل المقلي.', 'أشهر أكلات في المنطقة الشرقية\\n\\nنذكر أولا بعض المدن الموجودة بالمنطقة الشرقية وهي كثيرة ومتعددة ، منها مدينة الإحساء ، والجبيل2 ، ومدينة الظهران ، والهفوف ، ومحافظة الجبيل ، وحفر الباطن ، ومحافظة الخبر ، والدمام ، والقيصومة ،وغيرها الكثير من المدن.', 'تشترك المنطقة الشرقية مع كثير من الدول الخليجية بعدد من الأطباق ، وذلك لقربها منهم لأنهم يطلون على الخليج العربي ، ولذلك نجد إن المطبخ هناك يعتمد على الأطعمة البحرية ، والأسماك والربيان.', 'الأرز الحساوي\\n\\nوالأرز الحساوي مزروع في مدينة الأحساء لذلك سمي بهذا الاسم ، ولونه بني ، وأهم ما يميزه التوابل والبهارات ، والمكسرات ، التي تجعله من أطعم الأكلات.', 'المكبوس\\n\\nوهو من أطيب الأكلات ، وأشهرها ، في المملكة ، وفي الدول الخليجية ، ويمكن تحضيره من السمك أو الدجاج ، وأحيانا مع اللحم ، ويطبخ مع الأرز وبعض المكونات التي تجعله من أطيب الأكالات.', 'الربيان\\n\\nمن الأكالات المميزة ذات الفوائد الكثيرة والطعم الشهي الجميل ، وتحضر منه كبسة الربيان ، ويطبخ مع صلصة الطماطم ثم يوضع مع الأرز وبذلك تصبح وجبة رئيسية شهية.', 'وهو نوع من أنواع الأسماك يشبه سمك التونة ، وله من الفوائد الكثير ، وينصح دائما بتناوله لأنه يحتوي على المكمل الغذائي الأوميجا3 ، الذي يعمل على تقوية الذاكرة ، ويطهى بطريقة سهلة وبسيطة ، فيقطع سمك الكنعد إلى شرائح ثم يقلى بالزيت ويقدم مع السلطة.', 'أشهر أكلات في منطقة الحجاز\\n\\nوهي المنطقة الغربية من المملكة العربية السعودية ، وتشتمل على جدة ، ومكة المكرمة ، والمدينة المنورة ، والطائف ، وينبع ، ولهذه المنطقة أكلات ذات خصوصية ، فهي منطقة رسول الله (صل الله عليه وسلم)\\n\\nأو يطلق عليها المشربية وهي أفضل أكلة للرسول” صلى الله عليه و سلم” وهي عبارة عن قطع صغيرة من اللحم ، معها بعض الخضروات ويوضع معهم الخبز ويصب عليهم مرقة اللحم.', 'القوزي\\n\\nوهو عبارة عن طبق من الأرز أو المعكرونة ومعهم البرغل ، ويشوى القوزي أو الخروف ويوضع فوقهم وهو طبق مميز رئيسي يحضر في جميع المناسبات والحفلات الكبيرة.', 'أشهر أكلات في منطقة الجنوب من المملكة\\n\\nوهي تشتمل على منطقة عسير ، وجازان ، ونجران ، والباحة ومن أشهر أكلاتها.', 'العصيدة\\n\\nتعتبر العصيدة من الأكلات والحلويات الشعبية المشهورة ، وتتكون من دقيق القمح يعجن بالماء والقليل من الملح ثم تقدم مع اللبن والسمن ، وفي بعض الأحيان ، تقدم مع المرقة باختلاف مناطق صانعيها.']\n"
     ]
    }
   ],
   "source": [
    "#Tokenization\n",
    "text = corpus\n",
    "sent_tokens = nltk.sent_tokenize(text) #Convert the text into a list of sentences\n",
    "#Print the list of sentences\n",
    "print(sent_tokens)"
   ]
  },
  {
   "cell_type": "code",
   "execution_count": 12,
   "metadata": {},
   "outputs": [
    {
     "name": "stdout",
     "output_type": "stream",
     "text": [
      "!\"#$%&'()*+,-./:;<=>?@[\\]^_`{|}~\n",
      "{33: None, 34: None, 35: None, 36: None, 37: None, 38: None, 39: None, 40: None, 41: None, 42: None, 43: None, 44: None, 45: None, 46: None, 47: None, 58: None, 59: None, 60: None, 61: None, 62: None, 63: None, 64: None, 91: None, 92: None, 93: None, 94: None, 95: None, 96: None, 123: None, 124: None, 125: None, 126: None}\n"
     ]
    }
   ],
   "source": [
    "#Create a dictionary (key:value) pair to remove punctuations\n",
    "remove_punct_dict = dict( ( ord(punct),None) for punct in string.punctuation)\n",
    "\n",
    "#Print the punctuations\n",
    "print(string.punctuation)\n",
    "\n",
    "#Print the dictionary\n",
    "print(remove_punct_dict)"
   ]
  },
  {
   "cell_type": "code",
   "execution_count": 13,
   "metadata": {},
   "outputs": [
    {
     "name": "stdout",
     "output_type": "stream",
     "text": [
      "['المملكة', 'العربية', 'السعودية', 'هي', 'أكبر', 'دولة', 'في', 'الشرق', 'الأوسط', 'من', 'حيث', 'المساحة', 'وتتنوع', 'فيها', 'البيئات', '،', 'والتضاريس', 'والعادات', '،', 'والتقاليد', '،', 'وتتنوع', 'الأطعمة', '،', 'ومما', 'ساعد', 'أيضا', 'على', 'التنوع', 'وتغيير', 'الثقافات', 'بالمملكة', '،', 'وجود', 'زيارات', 'من', 'قدموا', 'لأداء', 'مناسك', 'الحج', 'والعمرة', 'من', 'كل', 'ثقافات', 'العالم', 'المختلفة', 'التي', 'نقلت', 'معهم', 'كذلك', 'ثقافة', 'الطعام', 'والغذاء', 'المتنوع', 'إلى', 'المملكة', 'أشهر', 'الأكلات', 'الشعبية', 'السعودية', 'تنقسم', 'أكلات', 'المملكة', 'وتتغير', 'على', 'حسب', 'المنطقة', 'وعادتها', 'وثقافتها', '،', 'وطريقة', 'إعدادها', 'للأكلات', 'والمواد', 'المستخدمة', 'في', 'الطهي', 'والبهارات', 'الجميلة', 'التي', 'تميز', 'طعام', 'المملكة', 'أشهر', 'أكلات', 'المناطق', 'الشمالية', 'والوسطى', 'تشمل', 'المناطق', 'الشمالية', 'مدينة', 'عرعر', 'ورفحاء', '،', 'والطريف', '،', 'ومدينة', 'العويقلية', '،', 'والمنطقة', 'الوسطى', 'تشتمل', 'على', 'أكبر', 'مدينتين', 'هما', 'مدينة', 'الرياض', '،', 'ومدينة', 'القصيم', '،', 'ومدن', 'أخري', 'مثل', 'الخرج', '،', 'والغاط', '،', 'ووادي', 'الدواسر', 'وغيرهم', 'من', 'المناطق', '،', 'وسنذكر', 'هنا', 'أشهرالأكلات', 'المفطح', 'من', 'الأكلات', 'الخليجية', 'المحببة', '،', 'وهو', 'عبارة', 'عن', 'خروف', 'مطبوخ', 'كامل', 'غير', 'مقطع', 'إلى', 'أجزاء', '،', 'ويفضل', 'سكان', 'المملكة', 'تقديمه', 'في', 'الولائم', 'للضيوف', '،', 'وفي', 'ولائم', 'الأفراح', 'الكبسة', 'هي', 'من', 'أشهر', 'الأطباق', 'والأكلات', 'التي', 'تقدم', 'بالمملكة', '،', 'ويحبها', 'الكبير', 'والصغير', '،', 'وقد', 'اشتهرت', 'هذه', 'الأكلة', '،', 'بين', 'الجنسيات', 'المختلفة', '،', 'وتتكون', 'من', 'الأرز', 'ولحم', 'الدجاج', 'أو', 'لحم', 'البقر', 'أو', 'الغنم', 'المنسف', 'هو', 'من', 'الأكلات', 'المشهورة', 'التي', 'تعكس', 'روح', 'البادية', 'بالمملكة', '،', 'والمعروف', 'عنهم', 'كرم', 'الضيافة', '،', 'و', 'تتكون', 'الأكلة', 'من', 'لحم', 'الخروف', 'المقطع', 'مع', 'الأرز', '،', 'وممكن', 'مع', 'الخبز', 'وتقدم', 'مع', 'لبن', 'الجميد', '،', 'وهي', 'من', 'الأكلات', 'الدسمة', 'المطازيز', 'من', 'الأكلات', 'الشعبية', 'المشهورة', '،', 'وتعرف', 'في', 'مناطق', 'أخري', 'بالقبابيط', '،', 'وهي', 'عبارة', 'عن', 'عجينة', 'مخبوزة', '،', 'ويطبخ', 'فيها', 'اللحم', 'والخضروات', '،', 'إلى', 'أن', 'تنضج', '،', 'ويفضل', 'أن', 'تقدم', 'في', 'فصل', 'الشتاء', 'لتعطي', 'طاقة', 'وحرارة', 'للجسم', 'الجريش', 'عبارة', 'عن', 'القمح', 'المجروش', 'الذي', 'يحتوي', 'على', 'كثير', 'من', 'المكونات', 'الغذائية', 'المفيدة', 'للجسم', '،', 'ويستخدم', 'كثيرا', 'في', 'المملكة', '،', 'ويطبخ', 'القمح', 'مع', 'اللحم', 'أو', 'الدجاج', '،', 'باللبن', 'أو', 'الماء', '،', 'ويرش', 'على', 'وجه', 'الأكلة', 'البصل', 'المقلي', 'أشهر', 'أكلات', 'في', 'المنطقة', 'الشرقية', 'نذكر', 'أولا', 'بعض', 'المدن', 'الموجودة', 'بالمنطقة', 'الشرقية', 'وهي', 'كثيرة', 'ومتعددة', '،', 'منها', 'مدينة', 'الإحساء', '،', 'والجبيل2', '،', 'ومدينة', 'الظهران', '،', 'والهفوف', '،', 'ومحافظة', 'الجبيل', '،', 'وحفر', 'الباطن', '،', 'ومحافظة', 'الخبر', '،', 'والدمام', '،', 'والقيصومة', '،وغيرها', 'الكثير', 'من', 'المدن', 'تشترك', 'المنطقة', 'الشرقية', 'مع', 'كثير', 'من', 'الدول', 'الخليجية', 'بعدد', 'من', 'الأطباق', '،', 'وذلك', 'لقربها', 'منهم', 'لأنهم', 'يطلون', 'على', 'الخليج', 'العربي', '،', 'ولذلك', 'نجد', 'إن', 'المطبخ', 'هناك', 'يعتمد', 'على', 'الأطعمة', 'البحرية', '،', 'والأسماك', 'والربيان', 'الأرز', 'الحساوي', 'والأرز', 'الحساوي', 'مزروع', 'في', 'مدينة', 'الأحساء', 'لذلك', 'سمي', 'بهذا', 'الاسم', '،', 'ولونه', 'بني', '،', 'وأهم', 'ما', 'يميزه', 'التوابل', 'والبهارات', '،', 'والمكسرات', '،', 'التي', 'تجعله', 'من', 'أطعم', 'الأكلات', 'المكبوس', 'وهو', 'من', 'أطيب', 'الأكلات', '،', 'وأشهرها', '،', 'في', 'المملكة', '،', 'وفي', 'الدول', 'الخليجية', '،', 'ويمكن', 'تحضيره', 'من', 'السمك', 'أو', 'الدجاج', '،', 'وأحيانا', 'مع', 'اللحم', '،', 'ويطبخ', 'مع', 'الأرز', 'وبعض', 'المكونات', 'التي', 'تجعله', 'من', 'أطيب', 'الأكالات', 'الربيان', 'من', 'الأكالات', 'المميزة', 'ذات', 'الفوائد', 'الكثيرة', 'والطعم', 'الشهي', 'الجميل', '،', 'وتحضر', 'منه', 'كبسة', 'الربيان', '،', 'ويطبخ', 'مع', 'صلصة', 'الطماطم', 'ثم', 'يوضع', 'مع', 'الأرز', 'وبذلك', 'تصبح', 'وجبة', 'رئيسية', 'شهية', 'وهو', 'نوع', 'من', 'أنواع', 'الأسماك', 'يشبه', 'سمك', 'التونة', '،', 'وله', 'من', 'الفوائد', 'الكثير', '،', 'وينصح', 'دائما', 'بتناوله', 'لأنه', 'يحتوي', 'على', 'المكمل', 'الغذائي', 'الأوميجا3', '،', 'الذي', 'يعمل', 'على', 'تقوية', 'الذاكرة', '،', 'ويطهى', 'بطريقة', 'سهلة', 'وبسيطة', '،', 'فيقطع', 'سمك', 'الكنعد', 'إلى', 'شرائح', 'ثم', 'يقلى', 'بالزيت', 'ويقدم', 'مع', 'السلطة', 'أشهر', 'أكلات', 'في', 'منطقة', 'الحجاز', 'وهي', 'المنطقة', 'الغربية', 'من', 'المملكة', 'العربية', 'السعودية', '،', 'وتشتمل', 'على', 'جدة', '،', 'ومكة', 'المكرمة', '،', 'والمدينة', 'المنورة', '،', 'والطائف', '،', 'وينبع', '،', 'ولهذه', 'المنطقة', 'أكلات', 'ذات', 'خصوصية', '،', 'فهي', 'منطقة', 'رسول', 'الله', 'صل', 'الله', 'عليه', 'وسلم', 'أو', 'يطلق', 'عليها', 'المشربية', 'وهي', 'أفضل', 'أكلة', 'للرسول', '”', 'صلى', 'الله', 'عليه', 'و', 'سلم', '”', 'وهي', 'عبارة', 'عن', 'قطع', 'صغيرة', 'من', 'اللحم', '،', 'معها', 'بعض', 'الخضروات', 'ويوضع', 'معهم', 'الخبز', 'ويصب', 'عليهم', 'مرقة', 'اللحم', 'القوزي', 'وهو', 'عبارة', 'عن', 'طبق', 'من', 'الأرز', 'أو', 'المعكرونة', 'ومعهم', 'البرغل', '،', 'ويشوى', 'القوزي', 'أو', 'الخروف', 'ويوضع', 'فوقهم', 'وهو', 'طبق', 'مميز', 'رئيسي', 'يحضر', 'في', 'جميع', 'المناسبات', 'والحفلات', 'الكبيرة', 'أشهر', 'أكلات', 'في', 'منطقة', 'الجنوب', 'من', 'المملكة', 'وهي', 'تشتمل', 'على', 'منطقة', 'عسير', '،', 'وجازان', '،', 'ونجران', '،', 'والباحة', 'ومن', 'أشهر', 'أكلاتها', 'العصيدة', 'تعتبر', 'العصيدة', 'من', 'الأكلات', 'والحلويات', 'الشعبية', 'المشهورة', '،', 'وتتكون', 'من', 'دقيق', 'القمح', 'يعجن', 'بالماء', 'والقليل', 'من', 'الملح', 'ثم', 'تقدم', 'مع', 'اللبن', 'والسمن', '،', 'وفي', 'بعض', 'الأحيان', '،', 'تقدم', 'مع', 'المرقة', 'باختلاف', 'مناطق', 'صانعيها']\n"
     ]
    }
   ],
   "source": [
    "#Create a function to return a list of lemmatized lower case words after removing punctuations\n",
    "def LemNormalize(text):\n",
    "    return nltk.word_tokenize(text.translate(remove_punct_dict))\n",
    "\n",
    "#Print the tokenization text\n",
    "print(LemNormalize(text))"
   ]
  },
  {
   "cell_type": "code",
   "execution_count": 14,
   "metadata": {},
   "outputs": [],
   "source": [
    "#Keyword Matching\n",
    "#Greeting Inputs\n",
    "GREETING_INPUTS = [\"hi\", \"السلام عليكم \", \"هاي\", \"تحياتي\", \"كيف الحال\"]\n",
    "#Greeting responses back to the user\n",
    "GREETING_RESPONSES=[\"hi\", \"وعليكم السلام \", \"اهلا وسهلا\", \"اهلا وسهلا\", \"بخير\"]\n",
    "#Function to return a random greeting response to a users greeting\n",
    "def greeting(sentence):\n",
    "  #if the user's input is a greeting, then return appropriate response\n",
    "  for word in range (len(GREETING_INPUTS)):\n",
    "    if sentence in GREETING_INPUTS[word]:\n",
    "        return GREETING_RESPONSES[word]"
   ]
  },
  {
   "cell_type": "code",
   "execution_count": 15,
   "metadata": {},
   "outputs": [],
   "source": [
    "#Generate the response\n",
    "def response(user_response):\n",
    "  #The users response / query\n",
    "  #user_response = 'الكبسة'\n",
    "    \n",
    "  ###Print the users query/ response\n",
    "  #print(user_response)\n",
    "  #Set the chatbot response to an empty string\n",
    "  robo_response = ''\n",
    "  #Append the users response to the sentence list\n",
    "  sent_tokens.append(user_response)\n",
    "  ###Print the sentence list after appending the users response\n",
    "  #print(sent_tokens)\n",
    " \n",
    "    \n",
    "    \n",
    "  #Create a TfidfVectorizer Object\n",
    "  TfidfVec = TfidfVectorizer(tokenizer = LemNormalize)\n",
    "\n",
    "  #Convert the text to a matrix of TF-IDF features\n",
    "  tfidf = TfidfVec.fit_transform(sent_tokens)\n",
    "\n",
    "  ###Print the TFIDF features\n",
    "  #print(tfidf)\n",
    "  #Get the measure of similarity (similarity scores)\n",
    "  vals = cosine_similarity(tfidf[-1], tfidf)\n",
    "\n",
    "  #Print the similarity scores\n",
    "  #print(vals)\n",
    "\n",
    "  #Get the index of the most similar text/sentence to the users response\n",
    "  idx = vals.argsort()[0][-2]\n",
    "\n",
    "  #Reduce the dimensionality of vals\n",
    "  flat = vals.flatten()\n",
    "\n",
    "  #sort the list in ascending order\n",
    "  flat.sort()\n",
    "\n",
    "  #Get the most similar score to the users response\n",
    "  score = flat[-2]\n",
    "\n",
    "  #Print the similarity score\n",
    "  #print(score)\n",
    "\n",
    "  #If the variable 'score' is 0 then their is no text similar to the users response\n",
    "  if(score == 0):\n",
    "    robo_response = robo_response+\"أسف لم افهمك \"\n",
    "  else:\n",
    "    robo_response = robo_response+sent_tokens[idx]\n",
    "  #Print the chat bot response\n",
    "  #print(robo_response)\n",
    "  \n",
    "  #Remove the users response from the sentence tokens list\n",
    "  sent_tokens.remove(user_response)\n",
    "  if(user_response == 'مع السلامة'):\n",
    "    robo_response = \" مع السلامة سعت بالحديث معك \"\n",
    "  if(user_response == 'شكرا' or user_response =='شكرا لك'):\n",
    "    robo_response = \" العفو \"\n",
    "  if(greeting(user_response) != None):\n",
    "    robo_response =greeting(user_response)\n",
    "  return robo_response"
   ]
  },
  {
   "cell_type": "code",
   "execution_count": 16,
   "metadata": {},
   "outputs": [
    {
     "name": "stdout",
     "output_type": "stream",
     "text": [
      "ChatBot: مرحبأ بك سوف أقوم بالاجابة علي أسئلتك في ما يخص المأكولات السعودية . اذا ارت المغادرة أكتب مع السلامة\n",
      "السلام عليكم\n",
      "ChatBot: وعليكم السلام \n",
      "كيف الحال\n",
      "ChatBot: بخير\n",
      "ماهي اشهر المأكولات السعودية\n",
      "ChatBot: أشهر الأكلات الشعبية السعودية\n",
      "\n",
      "تنقسم أكلات المملكة وتتغير على حسب المنطقة وعادتها وثقافتها ، وطريقة إعدادها للأكلات والمواد المستخدمة في الطهي والبهارات الجميلة التي تميز طعام المملكة.\n",
      "ماهي الكبسة\n",
      "ChatBot: الكبسة\n",
      "\n",
      "هي من أشهر الأطباق والأكلات التي تقدم بالمملكة ، ويحبها الكبير والصغير ، وقد اشتهرت هذه الأكلة ، بين الجنسيات المختلفة ، وتتكون من الأرز ولحم الدجاج أو لحم البقر أو الغنم.\n",
      "ما هو المفلطح\n",
      "ChatBot: الأرز الحساوي\n",
      "\n",
      "والأرز الحساوي مزروع في مدينة الأحساء لذلك سمي بهذا الاسم ، ولونه بني ، وأهم ما يميزه التوابل والبهارات ، والمكسرات ، التي تجعله من أطعم الأكلات.\n",
      "اشهر الاكلات المصرية\n",
      "ChatBot: أسف لم افهمك \n",
      "شكرا لك\n",
      "ChatBot:العفو !\n"
     ]
    }
   ],
   "source": [
    "flag = True\n",
    "print(\"ChatBot: مرحبأ بك سوف أقوم بالاجابة علي أسئلتك في ما يخص المأكولات السعودية . اذا ارت المغادرة أكتب مع السلامة\")\n",
    "while(flag == True):\n",
    "  user_response = input()\n",
    "  user_response = user_response.lower()\n",
    "  if(user_response != 'مع السلامة'):\n",
    "    if(user_response == 'شكرا' or user_response =='شكرا لك'):\n",
    "      flag=False\n",
    "      print(\"ChatBot:العفو !\")\n",
    "    else:\n",
    "      if(greeting(user_response) != None):\n",
    "        print(\"ChatBot: \"+greeting(user_response))\n",
    "      else:\n",
    "        print(\"ChatBot: \"+response(user_response))       \n",
    "  else:\n",
    "    flag = False\n",
    "    print(\"ChatBot: مع السلامة سعت بالحديث معك!\")"
   ]
  },
  {
   "cell_type": "code",
   "execution_count": null,
   "metadata": {},
   "outputs": [],
   "source": []
  },
  {
   "cell_type": "code",
   "execution_count": null,
   "metadata": {},
   "outputs": [],
   "source": []
  },
  {
   "cell_type": "markdown",
   "metadata": {},
   "source": [
    "# Create GUI "
   ]
  },
  {
   "cell_type": "code",
   "execution_count": null,
   "metadata": {},
   "outputs": [],
   "source": [
    "def send():\n",
    "    msg = EntryBox.get(\"1.0\",'end-1c').strip()\n",
    " \n",
    "\n",
    "    if msg != \"\":\n",
    "         \n",
    "        ChatBox.config(state=NORMAL)\n",
    "        ChatBox.insert(END, \"You: \" + msg + '\\n\\n')\n",
    "        ChatBox.config(foreground=\"#446665\", font=(\"Verdana\", 12 ))\n",
    "    \n",
    "        \n",
    "        res = response( msg)\n",
    "        \n",
    "        ChatBox.insert(END, \"Bot: \" + res + '\\n\\n')\n",
    "            \n",
    "        ChatBox.config(state=DISABLED)\n",
    "        ChatBox.yview(END)\n",
    "   \n",
    "\n",
    "        \n"
   ]
  },
  {
   "cell_type": "code",
   "execution_count": null,
   "metadata": {},
   "outputs": [],
   "source": [
    "from tkinter import *\n",
    "\n",
    "root = Tk()\n",
    "root.title(\"Chatbot\")\n",
    "root.geometry(\"520x520\")\n",
    "root.resizable(width=FALSE, height=FALSE)\n",
    "\n",
    "#Create Chat window\n",
    "ChatBox = Text(root, bd=0, bg=\"white\", height=\"8\", width=\"50\", font=\"Arabic\")\n",
    "ChatBox.insert(END, u\"Bot: مرحبأ بك سوف أقوم بالاجابة علي أسئلتك في ما يخص المأكولات السعودية . اذا اردت المغادرة أكتب مع السلامة\"+ '\\n\\n')\n",
    "\n",
    "ChatBox.config(state=DISABLED)\n",
    "\n",
    "#Bind scrollbar to Chat window\n",
    "scrollbar = Scrollbar(root, command=ChatBox.yview, cursor=\"heart\")\n",
    "ChatBox['yscrollcommand'] = scrollbar.set\n",
    "\n",
    "#Create Button to send message\n",
    "SendButton = Button(root, font=(\"Verdana\",12,'bold'), text=\"Send\", width=\"12\", height=5,\n",
    "                    bd=0, bg=\"#f9a602\", activebackground=\"#3c9d9b\",fg='#000000', command= send )\n",
    "\n",
    "#Create the box to enter message\n",
    "EntryBox = Text(root, bd=0, bg=\"white\",width=\"29\", height=\"5\", font=\"Arial\")\n",
    "#EntryBox.bind(\"<Return>\", send)\n",
    "\n",
    "\n",
    "#Place all components on the screen\n",
    "#Place all components on the screen\n",
    "scrollbar.place(x=451,y=6, height=386)\n",
    "ChatBox.place(x=6,y=6, height=386, width=430)\n",
    "EntryBox.place(x=128, y=420, height=90, width=300)\n",
    "SendButton.place(x=6, y=420, height=90)\n",
    "\n",
    "root.mainloop()"
   ]
  },
  {
   "cell_type": "code",
   "execution_count": null,
   "metadata": {},
   "outputs": [],
   "source": []
  },
  {
   "cell_type": "markdown",
   "metadata": {},
   "source": [
    "# Deploy our Chatbot to the cloud with Webhooks Using Python (Flask) and DialogFlow:\n",
    "We can build the bot in such a way that anybody viewing the bot page will see in realtime conversations going on.\n",
    "\n",
    "We can use webhooks when we want to create some useful chatbot with complex actions or we want dynamic responses. In Dialoflow, a webhook can be used to fetch data from your server whenever a certain intent having webhook enabled is invoked. The information from the intent is passed to the webhook service to receive the result. To make use of Dialogflow Python library, it requires that we can use Google Cloud Platform to get API..\n",
    "\n"
   ]
  },
  {
   "cell_type": "code",
   "execution_count": 7,
   "metadata": {},
   "outputs": [],
   "source": [
    "#!pip install flask\n",
    "#!pip install twilio flask requests\n",
    "#!pip install dialogflow"
   ]
  },
  {
   "cell_type": "code",
   "execution_count": 3,
   "metadata": {},
   "outputs": [],
   "source": []
  },
  {
   "cell_type": "code",
   "execution_count": null,
   "metadata": {},
   "outputs": [],
   "source": [
    "\n"
   ]
  },
  {
   "cell_type": "code",
   "execution_count": null,
   "metadata": {},
   "outputs": [],
   "source": [
    "\n"
   ]
  },
  {
   "cell_type": "code",
   "execution_count": null,
   "metadata": {},
   "outputs": [],
   "source": []
  },
  {
   "cell_type": "code",
   "execution_count": null,
   "metadata": {},
   "outputs": [],
   "source": []
  },
  {
   "cell_type": "code",
   "execution_count": null,
   "metadata": {},
   "outputs": [],
   "source": []
  }
 ],
 "metadata": {
  "kernelspec": {
   "display_name": "Python 3",
   "language": "python",
   "name": "python3"
  },
  "language_info": {
   "codemirror_mode": {
    "name": "ipython",
    "version": 3
   },
   "file_extension": ".py",
   "mimetype": "text/x-python",
   "name": "python",
   "nbconvert_exporter": "python",
   "pygments_lexer": "ipython3",
   "version": "3.7.0"
  }
 },
 "nbformat": 4,
 "nbformat_minor": 2
}
